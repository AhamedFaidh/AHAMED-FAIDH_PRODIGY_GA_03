{
  "nbformat": 4,
  "nbformat_minor": 0,
  "metadata": {
    "colab": {
      "provenance": []
    },
    "kernelspec": {
      "name": "python3",
      "display_name": "Python 3"
    },
    "language_info": {
      "name": "python"
    }
  },
  "cells": [
    {
      "cell_type": "code",
      "execution_count": 1,
      "metadata": {
        "colab": {
          "base_uri": "https://localhost:8080/"
        },
        "id": "_XwhGUiMSX0F",
        "outputId": "5ca519cd-772c-4df0-bfe8-3df0d53fb192"
      },
      "outputs": [
        {
          "output_type": "stream",
          "name": "stdout",
          "text": [
            "Generated Text:\n",
            "babarucs, s alich vaitatoms cs sy atietreys put atrko obabins iliconc s rtonofis one maty s, artricsisy a aromabitatancons, ara s, tinstaticonons cs fino aticomaromiserong ucerkom s cs sil atathaie.\n",
            "M\n"
          ]
        }
      ],
      "source": [
        "import random\n",
        "\n",
        "# Step 1: Build the Markov Chain model\n",
        "def build_markov_chain(text, n=1):\n",
        "    markov_chain = {}\n",
        "\n",
        "    # Loop through the text and build the chain\n",
        "    for i in range(len(text) - n):\n",
        "        current_char = text[i:i + n]\n",
        "        next_char = text[i + n]\n",
        "\n",
        "        if current_char not in markov_chain:\n",
        "            markov_chain[current_char] = []\n",
        "        markov_chain[current_char].append(next_char)\n",
        "\n",
        "    return markov_chain\n",
        "\n",
        "# Step 2: Generate text using the Markov Chain model\n",
        "def generate_text(markov_chain, length=100, seed=None):\n",
        "    if seed is None:\n",
        "        # Randomly choose a starting point from the markov chain\n",
        "        seed = random.choice(list(markov_chain.keys()))\n",
        "\n",
        "    output = seed\n",
        "    current_state = seed\n",
        "\n",
        "    # Generate the rest of the text\n",
        "    for _ in range(length - len(seed)):\n",
        "        if current_state not in markov_chain:\n",
        "            break  # Stop if there are no further states to transition to\n",
        "\n",
        "        next_char = random.choice(markov_chain[current_state])\n",
        "        output += next_char\n",
        "        current_state = current_state[1:] + next_char  # Shift the state window\n",
        "\n",
        "    return output\n",
        "\n",
        "# Example text to train the model\n",
        "text = \"\"\"\n",
        "Markov chains are mathematical systems that undergo transitions from one state to another according to certain probabilistic rules. They are used in a variety of fields such as statistics, physics, economics, and computer science.\n",
        "\"\"\"\n",
        "\n",
        "# Step 3: Build the Markov chain and generate text\n",
        "markov_chain = build_markov_chain(text, n=1)  # Using a simple 1-character Markov chain\n",
        "generated_text = generate_text(markov_chain, length=200)\n",
        "\n",
        "print(\"Generated Text:\")\n",
        "print(generated_text)\n"
      ]
    }
  ]
}